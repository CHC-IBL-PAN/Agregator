{
 "cells": [
  {
   "cell_type": "code",
   "execution_count": 3,
   "id": "1d82d2fd-cefc-482e-93f0-62a7c5e74712",
   "metadata": {},
   "outputs": [],
   "source": [
    "import pandas as pd\n",
    "import numpy as np\n",
    "import regex as re\n",
    "import requests\n",
    "import json"
   ]
  },
  {
   "cell_type": "code",
   "execution_count": 344,
   "id": "36a9a639-8729-47c4-bcb8-fa8c0061c47e",
   "metadata": {},
   "outputs": [],
   "source": [
    "def get_data(url: str) -> list:\n",
    "    responses = []\n",
    "    while url:\n",
    "        url = requests.get(url)\n",
    "        if url.status_code == 200:\n",
    "            url = url.json()\n",
    "            responses.append(url)\n",
    "            nextPage = url[\"nextPage\"]\n",
    "            url = nextPage\n",
    "            print(f\"Downloading: {url}\")\n",
    "        else:\n",
    "            print(\"Error while accessing API\")\n",
    "    print(\"Download complete\")\n",
    "    return responses\n",
    "    \n",
    "         \n",
    " \n",
    "        \n",
    "def get_subj(sub: str, header: str, field_numbers: list) -> dict:  \n",
    "    responses = get_data(f\"http://data.bn.org.pl/api/authorities.json?{header}={sub}\")\n",
    "    subjects = []\n",
    "    for response in responses:\n",
    "        for authority in response[\"authorities\"]:\n",
    "            for field in authority[\"marc\"][\"fields\"]:\n",
    "                for field_number in field_numbers:\n",
    "                    if field_number in field:\n",
    "                        for i in field:\n",
    "                            subjects.append(list(field[i][\"subfields\"][-1].values())[0])\n",
    "                \n",
    "    subjects_dict = {}\n",
    "    subjects_dict[sub] = subjects\n",
    "    return subjects_dict"
   ]
  },
  {
   "cell_type": "code",
   "execution_count": null,
   "id": "6774d83f-4ddc-4b61-8dbc-e0ab4cf57bc2",
   "metadata": {},
   "outputs": [],
   "source": [
    "subjects = get_subj(\"Literaturoznawstwo\", \"subjectCategory\", [\"450\", \"550\"])\n",
    "df = pd.DataFrame.from_dict(subjects) \n",
    "df.to_csv(\"subjects.csv\")"
   ]
  },
  {
   "cell_type": "code",
   "execution_count": 329,
   "id": "5aee217f-dd57-490e-8a8b-895504538214",
   "metadata": {},
   "outputs": [
    {
     "data": {
      "text/html": [
       "<div>\n",
       "<style scoped>\n",
       "    .dataframe tbody tr th:only-of-type {\n",
       "        vertical-align: middle;\n",
       "    }\n",
       "\n",
       "    .dataframe tbody tr th {\n",
       "        vertical-align: top;\n",
       "    }\n",
       "\n",
       "    .dataframe thead th {\n",
       "        text-align: right;\n",
       "    }\n",
       "</style>\n",
       "<table border=\"1\" class=\"dataframe\">\n",
       "  <thead>\n",
       "    <tr style=\"text-align: right;\">\n",
       "      <th></th>\n",
       "      <th>Literaturoznawstwo</th>\n",
       "    </tr>\n",
       "  </thead>\n",
       "  <tbody>\n",
       "    <tr>\n",
       "      <th>0</th>\n",
       "      <td>Dzieła anonimowe</td>\n",
       "    </tr>\n",
       "    <tr>\n",
       "      <th>1</th>\n",
       "      <td>Wydawnictwa anonimowe</td>\n",
       "    </tr>\n",
       "    <tr>\n",
       "      <th>2</th>\n",
       "      <td>Anonimowość</td>\n",
       "    </tr>\n",
       "    <tr>\n",
       "      <th>3</th>\n",
       "      <td>Autorstwo</td>\n",
       "    </tr>\n",
       "    <tr>\n",
       "      <th>4</th>\n",
       "      <td>Opis bibliograficzny</td>\n",
       "    </tr>\n",
       "    <tr>\n",
       "      <th>...</th>\n",
       "      <td>...</td>\n",
       "    </tr>\n",
       "    <tr>\n",
       "      <th>3493</th>\n",
       "      <td>Ork</td>\n",
       "    </tr>\n",
       "    <tr>\n",
       "      <th>3494</th>\n",
       "      <td>Orc</td>\n",
       "    </tr>\n",
       "    <tr>\n",
       "      <th>3495</th>\n",
       "      <td>Orcs</td>\n",
       "    </tr>\n",
       "    <tr>\n",
       "      <th>3496</th>\n",
       "      <td>Potwory</td>\n",
       "    </tr>\n",
       "    <tr>\n",
       "      <th>3497</th>\n",
       "      <td>Demony</td>\n",
       "    </tr>\n",
       "  </tbody>\n",
       "</table>\n",
       "<p>3498 rows × 1 columns</p>\n",
       "</div>"
      ],
      "text/plain": [
       "         Literaturoznawstwo\n",
       "0          Dzieła anonimowe\n",
       "1     Wydawnictwa anonimowe\n",
       "2               Anonimowość\n",
       "3                 Autorstwo\n",
       "4      Opis bibliograficzny\n",
       "...                     ...\n",
       "3493                    Ork\n",
       "3494                    Orc\n",
       "3495                   Orcs\n",
       "3496                Potwory\n",
       "3497                 Demony\n",
       "\n",
       "[3498 rows x 1 columns]"
      ]
     },
     "execution_count": 329,
     "metadata": {},
     "output_type": "execute_result"
    }
   ],
   "source": [
    "df"
   ]
  },
  {
   "cell_type": "code",
   "execution_count": null,
   "id": "1fb6da88-c71a-474b-a5fe-3143fce4ab92",
   "metadata": {},
   "outputs": [],
   "source": []
  }
 ],
 "metadata": {
  "kernelspec": {
   "display_name": "Python 3",
   "language": "python",
   "name": "python3"
  },
  "language_info": {
   "codemirror_mode": {
    "name": "ipython",
    "version": 3
   },
   "file_extension": ".py",
   "mimetype": "text/x-python",
   "name": "python",
   "nbconvert_exporter": "python",
   "pygments_lexer": "ipython3",
   "version": "3.8.8"
  }
 },
 "nbformat": 4,
 "nbformat_minor": 5
}
